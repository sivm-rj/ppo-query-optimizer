{
  "cells": [
    {
      "cell_type": "markdown",
      "metadata": {
        "id": "view-in-github",
        "colab_type": "text"
      },
      "source": [
        "<a href=\"https://colab.research.google.com/github/sivm-rj/ppo-query-optimizer/blob/main/Notebook/Query_optimization.ipynb\" target=\"_parent\"><img src=\"https://colab.research.google.com/assets/colab-badge.svg\" alt=\"Open In Colab\"/></a>"
      ]
    },
    {
      "cell_type": "code",
      "source": [
        "!pip install stable-baselines3 gymnasium psycopg2-binary matplotlib"
      ],
      "metadata": {
        "id": "MFIc-Tf_PAyz"
      },
      "execution_count": null,
      "outputs": []
    },
    {
      "cell_type": "code",
      "source": [
        "import psycopg2\n",
        "\n",
        "RAILWAY_DB_URL = \"YOUR URl"",
        "\n",
        "def setup_postgres_tables():\n",
        "    conn = psycopg2.connect(RAILWAY_DB_URL)\n",
        "    cur = conn.cursor()\n",
        "\n",
        "    for i in range(20):\n",
        "        cur.execute(f\"\"\"\n",
        "            CREATE TABLE IF NOT EXISTS t{i} (\n",
        "                id INT PRIMARY KEY,\n",
        "                fk INT\n",
        "            );\n",
        "        \"\"\")\n",
        "\n",
        "    for i in range(20):\n",
        "        cur.execute(f\"\"\"\n",
        "            INSERT INTO t{i} (id, fk)\n",
        "            VALUES (1, 1), (2, 2)\n",
        "            ON CONFLICT (id) DO NOTHING;\n",
        "        \"\"\")\n",
        "\n",
        "    conn.commit()\n",
        "    cur.close()\n",
        "    conn.close()\n",
        "    print(\"Tables t0 to t19 created and populated.\")\n",
        "\n",
        "setup_postgres_tables()"
      ],
      "metadata": {
        "id": "1ic44qC6PP6Z"
      },
      "execution_count": null,
      "outputs": []
    },
    {
      "cell_type": "code",
      "source": [
        "import gymnasium as gym\n",
        "from gymnasium import spaces\n",
        "import numpy as np\n",
        "\n",
        "def mock_cost(plan):\n",
        "    cost = 0\n",
        "    for i in range(1, len(plan)):\n",
        "        if abs(plan[i] - plan[i - 1]) > 1:\n",
        "            cost += 5\n",
        "        else:\n",
        "            cost += 1\n",
        "    return cost\n",
        "\n",
        "class JoinOrderEnv(gym.Env):\n",
        "    def __init__(self, num_tables=20):\n",
        "        self.num_tables = num_tables\n",
        "        self.tables = list(range(num_tables))\n",
        "        self.action_space = spaces.Discrete(num_tables)\n",
        "        self.observation_space = spaces.MultiBinary(num_tables)\n",
        "        self.reset()\n",
        "\n",
        "    def reset(self, seed=None, options=None):\n",
        "        self.remaining = self.tables.copy()\n",
        "        self.plan = []\n",
        "        return self._get_obs(), {}\n",
        "\n",
        "    def _get_obs(self):\n",
        "        obs = np.zeros(self.num_tables, dtype=int)\n",
        "        for t in self.remaining:\n",
        "            obs[t] = 1\n",
        "        return obs\n",
        "\n",
        "    def step(self, action):\n",
        "        if action not in self.remaining:\n",
        "            return self._get_obs(), -10, False, False, {}\n",
        "\n",
        "        self.plan.append(action)\n",
        "        self.remaining.remove(action)\n",
        "\n",
        "        done = len(self.plan) == self.num_tables\n",
        "        reward = -mock_cost(self.plan) if done else 0\n",
        "        return self._get_obs(), reward, done, False, {}"
      ],
      "metadata": {
        "id": "hF3ZC_GPPS0n"
      },
      "execution_count": null,
      "outputs": []
    },
    {
      "cell_type": "code",
      "source": [
        "from stable_baselines3 import PPO\n",
        "from stable_baselines3.common.env_util import make_vec_env\n",
        "\n",
        "env = make_vec_env(lambda: JoinOrderEnv(num_tables=20), n_envs=4)\n",
        "model = PPO(\"MlpPolicy\", env, verbose=1)\n",
        "model.learn(total_timesteps=50_000)\n",
        "model.save(\"ppo_20table_join_order\")"
      ],
      "metadata": {
        "id": "mq1e49mnPoKi"
      },
      "execution_count": null,
      "outputs": []
    },
    {
      "cell_type": "code",
      "source": [
        "import json\n",
        "\n",
        "TABLES = [f\"t{i}\" for i in range(20)]\n",
        "\n",
        "def join_condition(t1, t2):\n",
        "    return f\"{t2}.fk = {t1}.id\"\n",
        "\n",
        "def build_join_query(plan):\n",
        "    base = TABLES[plan[0]]\n",
        "    query = f\"{base}\"\n",
        "    for i in range(1, len(plan)):\n",
        "        t1 = TABLES[plan[i - 1]]\n",
        "        t2 = TABLES[plan[i]]\n",
        "        cond = join_condition(t1, t2)\n",
        "        query += f\" JOIN {t2} ON {cond}\"\n",
        "    return f\"EXPLAIN (FORMAT JSON) SELECT * FROM {query};\"\n",
        "\n",
        "def estimate_postgres_cost(plan):\n",
        "    query = build_join_query(plan)\n",
        "    try:\n",
        "        conn = psycopg2.connect(RAILWAY_DB_URL)\n",
        "        cur = conn.cursor()\n",
        "        cur.execute(query)\n",
        "        result = cur.fetchone()[0]  # already Python list\n",
        "        plan_json = result[0][\"Plan\"]  # extract plan\n",
        "        cur.close()\n",
        "        conn.close()\n",
        "        return plan_json[\"Total Cost\"]\n",
        "    except Exception as e:\n",
        "        print(\"PostgreSQL error:\", e)\n",
        "        return 1e9"
      ],
      "metadata": {
        "id": "uwmurA-KQCcj"
      },
      "execution_count": null,
      "outputs": []
    },
    {
      "cell_type": "code",
      "source": [
        "env = JoinOrderEnv(num_tables=20)\n",
        "model = PPO.load(\"ppo_20table_join_order\")\n",
        "\n",
        "obs, _ = env.reset()\n",
        "done = False\n",
        "plan = []\n",
        "\n",
        "while not done:\n",
        "    action, _ = model.predict(obs, deterministic=True)\n",
        "    plan.append(action)\n",
        "    obs, reward, done, _, _ = env.step(action)\n",
        "\n",
        "print(\"PPO Join Order:\", plan)\n",
        "rl_cost = estimate_postgres_cost(plan)\n",
        "print(\"PostgreSQL Estimated Cost (RL Plan):\", rl_cost)\n",
        "\n",
        "# Greedy Plan\n",
        "greedy_plan = sorted(env.tables)\n",
        "greedy_cost = estimate_postgres_cost(greedy_plan)\n",
        "print(\"Greedy Join Order:\", greedy_plan)\n",
        "print(\"PostgreSQL Estimated Cost (Greedy):\", greedy_cost)\n",
        "\n",
        "# Compare\n",
        "if rl_cost < greedy_cost:\n",
        "    print(\"PPO Agent found a better join order!\")\n",
        "else:\n",
        "    print(\"Greedy plan was better this time.\")\n"
      ],
      "metadata": {
        "id": "AVEyUVaEQFqQ"
      },
      "execution_count": null,
      "outputs": []
    }
  ],
  "metadata": {
    "accelerator": "GPU",
    "colab": {
      "gpuType": "T4",
      "provenance": [],
      "authorship_tag": "ABX9TyOkhbv4EfcFgXext8VGzHHI",
      "include_colab_link": true
    },
    "kernelspec": {
      "display_name": "Python 3",
      "name": "python3"
    },
    "language_info": {
      "name": "python"
    }
  },
  "nbformat": 4,
  "nbformat_minor": 0
}
